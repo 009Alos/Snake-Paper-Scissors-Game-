{
 "cells": [
  {
   "cell_type": "code",
   "execution_count": 3,
   "id": "38a82753",
   "metadata": {},
   "outputs": [
    {
     "name": "stdout",
     "output_type": "stream",
     "text": [
      "Enter the your name pleaseAbhay\n",
      "welcome _/\\_ Abhay Snake Water Gun Game Created By ALOS\n",
      "---------- To choose snake Type '1' ----------\n",
      "---------- To choose water Type '2' ----------\n",
      "---------- To choose gun Type '3' ----------\n",
      "------------------------------------------------------------\n",
      "********** Type '999' for quit the game  **********\n",
      "------------------------------------------------------------\n",
      "Enter the your Option :2\n",
      "Abhay The game is tie\n",
      "Enter the your Option :3\n",
      "Abhay The game is tie\n",
      "Enter the your Option :1\n",
      "Abhay Opps! you lose the game\n",
      "Enter the your Option :2\n",
      "Abhay Wow! You won the game\n",
      "Enter the your Option :123\n",
      "Please type '1' for snake\n",
      "\t'2' for Water \n",
      "\t '3' for Gun\n",
      "Enter the your Option :999\n"
     ]
    }
   ],
   "source": [
    "import random\n",
    "\n",
    "user_name=input(\"Enter the your name please\")\n",
    "print(f\"welcome _/\\_ {user_name} Snake Water Gun Game Created By ALOS\")\n",
    "print('-'*10,\"To choose snake Type '1'\",'-'*10)\n",
    "print('-'*10,\"To choose water Type '2'\",'-'*10)\n",
    "print('-'*10,\"To choose gun Type '3'\",'-'*10)\n",
    "print('-'*60)\n",
    "print('*'*10,\"Type '999' for quit the game \",'*'*10)\n",
    "print('-'*60)\n",
    "while True:\n",
    "    \n",
    "    \n",
    "    \n",
    "    \n",
    "    try:\n",
    "        \n",
    "        com=random.randint(1,3)\n",
    "        user_choice=int(input(\"Enter the your Option :\"))\n",
    "        if user_choice==999:\n",
    "            break\n",
    "        if user_choice<0 or user_choice>=4:\n",
    "            print(\"Please type '1' for snake\\n\\t'2' for Water \\n\\t '3' for Gun\" )\n",
    "        \n",
    "        elif user_choice==1 and com==1:\n",
    "            print(f\"{user_name} the game is tie\")\n",
    "            \n",
    "        elif user_choice==1 and com==2:\n",
    "            print(f\"{user_name} Wow! You won the game\")\n",
    "            \n",
    "        elif user_choice==1 and com==3:\n",
    "            print(f\"{user_name} Opps! you lose the game\")\n",
    "            \n",
    "        elif user_choice==2 and com==1:\n",
    "            print(f\"{user_name} Opps! you lose the game \")\n",
    "            \n",
    "        elif user_choice==2 and  com==2:\n",
    "            print(f\"{user_name} The game is tie\")\n",
    "            \n",
    "        elif user_choice==2 and com==3:\n",
    "            print(f\"{user_name} Wow! You won the game\")\n",
    "            \n",
    "        elif user_choice==3 and com==1:\n",
    "            print(f\"{user_name} Wow! You won the game\")\n",
    "            \n",
    "        elif  user_choice==3 and com==2:\n",
    "            print(f\"{user_name} Opps! you lose the game\")\n",
    "            \n",
    "        elif user_choice==3 and com==3:\n",
    "            print(f\"{user_name} The game is tie\")\n",
    "            \n",
    "    except Exception as e:\n",
    "        print(\"You entered wrong type of Entry Please type '1' for snake\\n\\t'2' for water\\n\\t '3' for gun\")\n",
    "\n",
    "       "
   ]
  },
  {
   "cell_type": "code",
   "execution_count": null,
   "id": "fa59906f",
   "metadata": {},
   "outputs": [],
   "source": [
    "Succesfully created "
   ]
  },
  {
   "cell_type": "code",
   "execution_count": null,
   "id": "57fa5242",
   "metadata": {},
   "outputs": [],
   "source": []
  }
 ],
 "metadata": {
  "kernelspec": {
   "display_name": "Python 3 (ipykernel)",
   "language": "python",
   "name": "python3"
  },
  "language_info": {
   "codemirror_mode": {
    "name": "ipython",
    "version": 3
   },
   "file_extension": ".py",
   "mimetype": "text/x-python",
   "name": "python",
   "nbconvert_exporter": "python",
   "pygments_lexer": "ipython3",
   "version": "3.9.13"
  }
 },
 "nbformat": 4,
 "nbformat_minor": 5
}
